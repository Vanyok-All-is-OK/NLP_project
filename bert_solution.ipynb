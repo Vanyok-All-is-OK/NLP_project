{
 "cells": [
  {
   "cell_type": "code",
   "execution_count": 65,
   "id": "ce2560f2",
   "metadata": {},
   "outputs": [],
   "source": [
    "import pandas as pd\n",
    "from scipy.stats import spearmanr, pearsonr"
   ]
  },
  {
   "cell_type": "code",
   "execution_count": 66,
   "id": "da49291f",
   "metadata": {},
   "outputs": [
    {
     "data": {
      "text/html": [
       "<div>\n",
       "<style scoped>\n",
       "    .dataframe tbody tr th:only-of-type {\n",
       "        vertical-align: middle;\n",
       "    }\n",
       "\n",
       "    .dataframe tbody tr th {\n",
       "        vertical-align: top;\n",
       "    }\n",
       "\n",
       "    .dataframe thead th {\n",
       "        text-align: right;\n",
       "    }\n",
       "</style>\n",
       "<table border=\"1\" class=\"dataframe\">\n",
       "  <thead>\n",
       "    <tr style=\"text-align: right;\">\n",
       "      <th></th>\n",
       "      <th>PairID</th>\n",
       "      <th>Text</th>\n",
       "      <th>Score</th>\n",
       "    </tr>\n",
       "  </thead>\n",
       "  <tbody>\n",
       "    <tr>\n",
       "      <th>0</th>\n",
       "      <td>ENG-train-0000</td>\n",
       "      <td>It that happens, just pull the plug.\\r\\nif tha...</td>\n",
       "      <td>1.0</td>\n",
       "    </tr>\n",
       "    <tr>\n",
       "      <th>1</th>\n",
       "      <td>ENG-train-0001</td>\n",
       "      <td>A black dog running through water.\\r\\nA black ...</td>\n",
       "      <td>1.0</td>\n",
       "    </tr>\n",
       "    <tr>\n",
       "      <th>2</th>\n",
       "      <td>ENG-train-0002</td>\n",
       "      <td>I've been searchingthe entire abbey for you.\\r...</td>\n",
       "      <td>1.0</td>\n",
       "    </tr>\n",
       "    <tr>\n",
       "      <th>3</th>\n",
       "      <td>ENG-train-0003</td>\n",
       "      <td>If he is good looking and has a good personali...</td>\n",
       "      <td>1.0</td>\n",
       "    </tr>\n",
       "    <tr>\n",
       "      <th>4</th>\n",
       "      <td>ENG-train-0004</td>\n",
       "      <td>She does not hate you, she is just annoyed wit...</td>\n",
       "      <td>1.0</td>\n",
       "    </tr>\n",
       "    <tr>\n",
       "      <th>...</th>\n",
       "      <td>...</td>\n",
       "      <td>...</td>\n",
       "      <td>...</td>\n",
       "    </tr>\n",
       "    <tr>\n",
       "      <th>5495</th>\n",
       "      <td>ENG-train-5495</td>\n",
       "      <td>A young boy pounding on an anvil.\\r\\nWoman sit...</td>\n",
       "      <td>0.0</td>\n",
       "    </tr>\n",
       "    <tr>\n",
       "      <th>5496</th>\n",
       "      <td>ENG-train-5496</td>\n",
       "      <td>I love how he recognized his wife tempered his...</td>\n",
       "      <td>0.0</td>\n",
       "    </tr>\n",
       "    <tr>\n",
       "      <th>5497</th>\n",
       "      <td>ENG-train-5497</td>\n",
       "      <td>I actually read a chapter or two beyond that p...</td>\n",
       "      <td>0.0</td>\n",
       "    </tr>\n",
       "    <tr>\n",
       "      <th>5498</th>\n",
       "      <td>ENG-train-5498</td>\n",
       "      <td>A boy gives being in the snow two thumbs up.\\r...</td>\n",
       "      <td>0.0</td>\n",
       "    </tr>\n",
       "    <tr>\n",
       "      <th>5499</th>\n",
       "      <td>ENG-train-5499</td>\n",
       "      <td>Perhaps it is strange to think about sex const...</td>\n",
       "      <td>0.0</td>\n",
       "    </tr>\n",
       "  </tbody>\n",
       "</table>\n",
       "<p>5500 rows × 3 columns</p>\n",
       "</div>"
      ],
      "text/plain": [
       "              PairID                                               Text  Score\n",
       "0     ENG-train-0000  It that happens, just pull the plug.\\r\\nif tha...    1.0\n",
       "1     ENG-train-0001  A black dog running through water.\\r\\nA black ...    1.0\n",
       "2     ENG-train-0002  I've been searchingthe entire abbey for you.\\r...    1.0\n",
       "3     ENG-train-0003  If he is good looking and has a good personali...    1.0\n",
       "4     ENG-train-0004  She does not hate you, she is just annoyed wit...    1.0\n",
       "...              ...                                                ...    ...\n",
       "5495  ENG-train-5495  A young boy pounding on an anvil.\\r\\nWoman sit...    0.0\n",
       "5496  ENG-train-5496  I love how he recognized his wife tempered his...    0.0\n",
       "5497  ENG-train-5497  I actually read a chapter or two beyond that p...    0.0\n",
       "5498  ENG-train-5498  A boy gives being in the snow two thumbs up.\\r...    0.0\n",
       "5499  ENG-train-5499  Perhaps it is strange to think about sex const...    0.0\n",
       "\n",
       "[5500 rows x 3 columns]"
      ]
     },
     "execution_count": 66,
     "metadata": {},
     "output_type": "execute_result"
    }
   ],
   "source": [
    "df_train = pd.read_csv('eng_train.csv')\n",
    "df_train"
   ]
  },
  {
   "cell_type": "code",
   "execution_count": 67,
   "id": "ab1ddc44",
   "metadata": {},
   "outputs": [
    {
     "data": {
      "text/html": [
       "<div>\n",
       "<style scoped>\n",
       "    .dataframe tbody tr th:only-of-type {\n",
       "        vertical-align: middle;\n",
       "    }\n",
       "\n",
       "    .dataframe tbody tr th {\n",
       "        vertical-align: top;\n",
       "    }\n",
       "\n",
       "    .dataframe thead th {\n",
       "        text-align: right;\n",
       "    }\n",
       "</style>\n",
       "<table border=\"1\" class=\"dataframe\">\n",
       "  <thead>\n",
       "    <tr style=\"text-align: right;\">\n",
       "      <th></th>\n",
       "      <th>PairID</th>\n",
       "      <th>Text</th>\n",
       "    </tr>\n",
       "  </thead>\n",
       "  <tbody>\n",
       "    <tr>\n",
       "      <th>0</th>\n",
       "      <td>ENG-dev-0000</td>\n",
       "      <td>The story is gripping and interesting.\\r\\nIt's...</td>\n",
       "    </tr>\n",
       "    <tr>\n",
       "      <th>1</th>\n",
       "      <td>ENG-dev-0001</td>\n",
       "      <td>The majority of Southeast Alaska 's area is pa...</td>\n",
       "    </tr>\n",
       "    <tr>\n",
       "      <th>2</th>\n",
       "      <td>ENG-dev-0002</td>\n",
       "      <td>and from your post i think you are to young to...</td>\n",
       "    </tr>\n",
       "    <tr>\n",
       "      <th>3</th>\n",
       "      <td>ENG-dev-0003</td>\n",
       "      <td>The film 's success also made Dreamworks Anima...</td>\n",
       "    </tr>\n",
       "    <tr>\n",
       "      <th>4</th>\n",
       "      <td>ENG-dev-0004</td>\n",
       "      <td>I am still confused about how I feel about thi...</td>\n",
       "    </tr>\n",
       "    <tr>\n",
       "      <th>...</th>\n",
       "      <td>...</td>\n",
       "      <td>...</td>\n",
       "    </tr>\n",
       "    <tr>\n",
       "      <th>245</th>\n",
       "      <td>ENG-dev-0245</td>\n",
       "      <td>thats just how they are :( its a shame lol\\r\\n...</td>\n",
       "    </tr>\n",
       "    <tr>\n",
       "      <th>246</th>\n",
       "      <td>ENG-dev-0246</td>\n",
       "      <td>I feel sorry for the books that I will read af...</td>\n",
       "    </tr>\n",
       "    <tr>\n",
       "      <th>247</th>\n",
       "      <td>ENG-dev-0247</td>\n",
       "      <td>Uwe Seeler -LRB- born 5 November 1936 in Hambu...</td>\n",
       "    </tr>\n",
       "    <tr>\n",
       "      <th>248</th>\n",
       "      <td>ENG-dev-0248</td>\n",
       "      <td>Waco is a city in and the county seat of McLen...</td>\n",
       "    </tr>\n",
       "    <tr>\n",
       "      <th>249</th>\n",
       "      <td>ENG-dev-0249</td>\n",
       "      <td>religious extremism continues in pakistan desp...</td>\n",
       "    </tr>\n",
       "  </tbody>\n",
       "</table>\n",
       "<p>250 rows × 2 columns</p>\n",
       "</div>"
      ],
      "text/plain": [
       "           PairID                                               Text\n",
       "0    ENG-dev-0000  The story is gripping and interesting.\\r\\nIt's...\n",
       "1    ENG-dev-0001  The majority of Southeast Alaska 's area is pa...\n",
       "2    ENG-dev-0002  and from your post i think you are to young to...\n",
       "3    ENG-dev-0003  The film 's success also made Dreamworks Anima...\n",
       "4    ENG-dev-0004  I am still confused about how I feel about thi...\n",
       "..            ...                                                ...\n",
       "245  ENG-dev-0245  thats just how they are :( its a shame lol\\r\\n...\n",
       "246  ENG-dev-0246  I feel sorry for the books that I will read af...\n",
       "247  ENG-dev-0247  Uwe Seeler -LRB- born 5 November 1936 in Hambu...\n",
       "248  ENG-dev-0248  Waco is a city in and the county seat of McLen...\n",
       "249  ENG-dev-0249  religious extremism continues in pakistan desp...\n",
       "\n",
       "[250 rows x 2 columns]"
      ]
     },
     "execution_count": 67,
     "metadata": {},
     "output_type": "execute_result"
    }
   ],
   "source": [
    "df_dev = pd.read_csv('eng_dev.csv')\n",
    "df_dev"
   ]
  },
  {
   "cell_type": "code",
   "execution_count": 68,
   "id": "ee3ce40f",
   "metadata": {},
   "outputs": [],
   "source": [
    "import torch\n",
    "from pytorch_pretrained_bert import BertTokenizer, BertModel\n",
    "import numpy as np\n",
    "from tqdm import tqdm"
   ]
  },
  {
   "cell_type": "code",
   "execution_count": 69,
   "id": "9e9d141b",
   "metadata": {},
   "outputs": [],
   "source": [
    "def compute_bert_embeddings(X, tokenizer, model):\n",
    "    model.eval()\n",
    "\n",
    "    bert_mean_embeddings = []\n",
    "    bert_cls_embeddings = []\n",
    "    for text in tqdm(X):\n",
    "        marked_text = '[CLS] ' + text + ' [SEP]'\n",
    "        tokenized_text = tokenizer.tokenize(marked_text)\n",
    "        tokenized_text = tokenized_text[:512]\n",
    "\n",
    "        indexed_tokens = tokenizer.convert_tokens_to_ids(tokenized_text)\n",
    "        segments_ids = [1] * len(indexed_tokens)\n",
    "        tokens_tensor = torch.tensor([indexed_tokens])\n",
    "        segments_tensor = torch.tensor([segments_ids])\n",
    "\n",
    "        with torch.no_grad():\n",
    "            #encoded_layers, _ = model(tokens_tensor, segments_tensor)\n",
    "            encoded_layers = model(tokens_tensor, segments_tensor)\n",
    "\n",
    "        mean_embedding = torch.mean(encoded_layers[-1], dim=1)\n",
    "        cls_embedding = encoded_layers[-1][0][0]\n",
    "\n",
    "        bert_mean_embeddings.append(mean_embedding.numpy())\n",
    "        bert_cls_embeddings.append(cls_embedding.numpy())\n",
    "\n",
    "    bert_mean_embeddings = np.array(bert_mean_embeddings).reshape((len(X), -1))\n",
    "    bert_cls_embeddings = np.array(bert_cls_embeddings).reshape((len(X), -1))\n",
    "\n",
    "    return bert_mean_embeddings, bert_cls_embeddings"
   ]
  },
  {
   "cell_type": "code",
   "execution_count": 86,
   "id": "b118d910",
   "metadata": {},
   "outputs": [],
   "source": [
    "from transformers import AutoTokenizer, AutoModel\n",
    "\n",
    "\n",
    "tokenizer = AutoTokenizer.from_pretrained(\"sentence-transformers/msmarco-distilbert-dot-v5\")\n",
    "model = AutoModel.from_pretrained(\"sentence-transformers/msmarco-distilbert-dot-v5\")"
   ]
  },
  {
   "cell_type": "code",
   "execution_count": 78,
   "id": "6da04e58",
   "metadata": {},
   "outputs": [],
   "source": [
    "#tokenizer = BertTokenizer.from_pretrained('bert-base-uncased')\n",
    "#model = BertModel.from_pretrained('bert-base-uncased')"
   ]
  },
  {
   "cell_type": "code",
   "execution_count": 79,
   "id": "d9132956",
   "metadata": {},
   "outputs": [],
   "source": [
    "def extract_part(X, index):\n",
    "    return X.str.split('\\n').str.__getitem__(index)"
   ]
  },
  {
   "cell_type": "code",
   "execution_count": 80,
   "id": "568e1e35",
   "metadata": {},
   "outputs": [
    {
     "name": "stderr",
     "output_type": "stream",
     "text": [
      "100%|██████████████████████████████████████████████████████████████████████████████| 5500/5500 [03:27<00:00, 26.51it/s]\n"
     ]
    }
   ],
   "source": [
    "embeddings_1, _ = compute_bert_embeddings(\n",
    "    extract_part(df_train.Text, 0), tokenizer, model\n",
    ")"
   ]
  },
  {
   "cell_type": "code",
   "execution_count": 81,
   "id": "49979ee2",
   "metadata": {},
   "outputs": [
    {
     "name": "stderr",
     "output_type": "stream",
     "text": [
      "100%|██████████████████████████████████████████████████████████████████████████████| 5500/5500 [03:28<00:00, 26.34it/s]\n"
     ]
    }
   ],
   "source": [
    "embeddings_2, _ = compute_bert_embeddings(\n",
    "    extract_part(df_train.Text, 1), tokenizer, model\n",
    ")"
   ]
  },
  {
   "cell_type": "code",
   "execution_count": 82,
   "id": "f0c749e9",
   "metadata": {},
   "outputs": [],
   "source": [
    "from numpy.linalg import norm\n",
    "\n",
    "def cos_sim(v1, v2):\n",
    "    return np.dot(v1, v2) / (norm(v1) * norm(v2))"
   ]
  },
  {
   "cell_type": "code",
   "execution_count": 83,
   "id": "df9c9565",
   "metadata": {},
   "outputs": [],
   "source": [
    "preds = [cos_sim(embeddings_1[i], embeddings_2[i]) for i in range(len(embeddings_1))]"
   ]
  },
  {
   "cell_type": "code",
   "execution_count": 84,
   "id": "1b383bc5",
   "metadata": {},
   "outputs": [],
   "source": [
    "def get_score(y_true, y_pred):\n",
    "    return round(spearmanr(y_true, y_pred)[0], 2)"
   ]
  },
  {
   "cell_type": "code",
   "execution_count": 85,
   "id": "8e9b2afd",
   "metadata": {},
   "outputs": [
    {
     "name": "stdout",
     "output_type": "stream",
     "text": [
      "Spearman Correlation: 0.77\n"
     ]
    }
   ],
   "source": [
    "metric_value = get_score(df_train.Score, preds)\n",
    "print(\"Spearman Correlation:\", metric_value)"
   ]
  },
  {
   "cell_type": "code",
   "execution_count": 58,
   "id": "3183708c",
   "metadata": {},
   "outputs": [
    {
     "name": "stderr",
     "output_type": "stream",
     "text": [
      "100%|████████████████████████████████████████████████████████████████████████████████| 250/250 [00:10<00:00, 22.88it/s]\n"
     ]
    }
   ],
   "source": [
    "embeddings_1_dev, _ = compute_bert_embeddings(\n",
    "    extract_part(df_dev.Text, 0), tokenizer, model\n",
    ")"
   ]
  },
  {
   "cell_type": "code",
   "execution_count": 59,
   "id": "ff4f3e70",
   "metadata": {},
   "outputs": [
    {
     "name": "stderr",
     "output_type": "stream",
     "text": [
      "100%|████████████████████████████████████████████████████████████████████████████████| 250/250 [00:12<00:00, 20.06it/s]\n"
     ]
    }
   ],
   "source": [
    "embeddings_2_dev, _ = compute_bert_embeddings(\n",
    "    extract_part(df_dev.Text, 1), tokenizer, model\n",
    ")"
   ]
  },
  {
   "cell_type": "code",
   "execution_count": 63,
   "id": "67a921b4",
   "metadata": {},
   "outputs": [],
   "source": [
    "preds = [cos_sim(embeddings_1_dev[i], embeddings_2_dev[i]) for i in range(len(embeddings_1_dev))]"
   ]
  },
  {
   "cell_type": "code",
   "execution_count": 64,
   "id": "b7c351aa",
   "metadata": {},
   "outputs": [
    {
     "data": {
      "text/html": [
       "<div>\n",
       "<style scoped>\n",
       "    .dataframe tbody tr th:only-of-type {\n",
       "        vertical-align: middle;\n",
       "    }\n",
       "\n",
       "    .dataframe tbody tr th {\n",
       "        vertical-align: top;\n",
       "    }\n",
       "\n",
       "    .dataframe thead th {\n",
       "        text-align: right;\n",
       "    }\n",
       "</style>\n",
       "<table border=\"1\" class=\"dataframe\">\n",
       "  <thead>\n",
       "    <tr style=\"text-align: right;\">\n",
       "      <th></th>\n",
       "      <th>PairID</th>\n",
       "      <th>Text</th>\n",
       "      <th>Pred_Score</th>\n",
       "    </tr>\n",
       "  </thead>\n",
       "  <tbody>\n",
       "    <tr>\n",
       "      <th>0</th>\n",
       "      <td>ENG-dev-0000</td>\n",
       "      <td>The story is gripping and interesting.\\r\\nIt's...</td>\n",
       "      <td>1.0</td>\n",
       "    </tr>\n",
       "    <tr>\n",
       "      <th>1</th>\n",
       "      <td>ENG-dev-0001</td>\n",
       "      <td>The majority of Southeast Alaska 's area is pa...</td>\n",
       "      <td>1.0</td>\n",
       "    </tr>\n",
       "    <tr>\n",
       "      <th>2</th>\n",
       "      <td>ENG-dev-0002</td>\n",
       "      <td>and from your post i think you are to young to...</td>\n",
       "      <td>1.0</td>\n",
       "    </tr>\n",
       "    <tr>\n",
       "      <th>3</th>\n",
       "      <td>ENG-dev-0003</td>\n",
       "      <td>The film 's success also made Dreamworks Anima...</td>\n",
       "      <td>1.0</td>\n",
       "    </tr>\n",
       "    <tr>\n",
       "      <th>4</th>\n",
       "      <td>ENG-dev-0004</td>\n",
       "      <td>I am still confused about how I feel about thi...</td>\n",
       "      <td>1.0</td>\n",
       "    </tr>\n",
       "  </tbody>\n",
       "</table>\n",
       "</div>"
      ],
      "text/plain": [
       "         PairID                                               Text  Pred_Score\n",
       "0  ENG-dev-0000  The story is gripping and interesting.\\r\\nIt's...         1.0\n",
       "1  ENG-dev-0001  The majority of Southeast Alaska 's area is pa...         1.0\n",
       "2  ENG-dev-0002  and from your post i think you are to young to...         1.0\n",
       "3  ENG-dev-0003  The film 's success also made Dreamworks Anima...         1.0\n",
       "4  ENG-dev-0004  I am still confused about how I feel about thi...         1.0"
      ]
     },
     "execution_count": 64,
     "metadata": {},
     "output_type": "execute_result"
    }
   ],
   "source": [
    "df_dev['Pred_Score'] = preds\n",
    "df_dev.head()"
   ]
  },
  {
   "cell_type": "code",
   "execution_count": null,
   "id": "0154fe25",
   "metadata": {},
   "outputs": [],
   "source": [
    "df_dev[['PairID', 'Pred_Score']].to_csv('pred_eng_a.csv', index=False)"
   ]
  },
  {
   "cell_type": "code",
   "execution_count": null,
   "id": "80ee18cd",
   "metadata": {},
   "outputs": [],
   "source": [
    "import zipfile\n",
    "\n",
    "csv_file = 'pred_eng_a.csv'\n",
    "\n",
    "zip_file = 'bert_cos_sim.zip'\n",
    "\n",
    "with zipfile.ZipFile(zip_file, 'w', zipfile.ZIP_DEFLATED) as zipf:\n",
    "    zipf.write(csv_file, arcname=csv_file)\n",
    "\n",
    "print(f'{csv_file} успешно архивирован в {zip_file}')"
   ]
  },
  {
   "cell_type": "code",
   "execution_count": null,
   "id": "e9550dce",
   "metadata": {},
   "outputs": [],
   "source": []
  }
 ],
 "metadata": {
  "kernelspec": {
   "display_name": "Python 3 (ipykernel)",
   "language": "python",
   "name": "python3"
  },
  "language_info": {
   "codemirror_mode": {
    "name": "ipython",
    "version": 3
   },
   "file_extension": ".py",
   "mimetype": "text/x-python",
   "name": "python",
   "nbconvert_exporter": "python",
   "pygments_lexer": "ipython3",
   "version": "3.11.5"
  }
 },
 "nbformat": 4,
 "nbformat_minor": 5
}
